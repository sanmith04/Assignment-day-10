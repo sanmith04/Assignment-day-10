{
 "cells": [
  {
   "cell_type": "markdown",
   "metadata": {},
   "source": [
    "# Question 1"
   ]
  },
  {
   "cell_type": "code",
   "execution_count": 2,
   "metadata": {},
   "outputs": [
    {
     "name": "stdout",
     "output_type": "stream",
     "text": [
      "Original numbers:\n",
      "[33 22 11]\n",
      "[33 22 11]\n",
      "Comparison - greater\n",
      "[ True  True False]\n",
      "Comparison - greater_equal\n",
      "[ True  True False]\n",
      "Comparison - less\n",
      "[False False  True]\n",
      "Comparison - less_equal\n",
      "[False False  True]\n"
     ]
    }
   ],
   "source": [
    "import numpy as np\n",
    "\n",
    "\n",
    "a=np.array([33,22,11])\n",
    "\n",
    "b=np.array([10,20,30])\n",
    "\n",
    "print(\"Original numbers:\")\n",
    "print(a)\n",
    "print(a)\n",
    "print(\"Comparison - greater\")\n",
    "print(np.greater(a, b))\n",
    "print(\"Comparison - greater_equal\")\n",
    "print(np.greater_equal(a, b))\n",
    "print(\"Comparison - less\")\n",
    "print(np.less(a, b))\n",
    "print(\"Comparison - less_equal\")\n",
    "print(np.less_equal(a, b))"
   ]
  },
  {
   "cell_type": "markdown",
   "metadata": {},
   "source": [
    "# Question 2"
   ]
  },
  {
   "cell_type": "code",
   "execution_count": 3,
   "metadata": {},
   "outputs": [
    {
     "name": "stdout",
     "output_type": "stream",
     "text": [
      "[0. 0. 0. 0. 0. 0. 0. 0. 0. 0.]\n"
     ]
    }
   ],
   "source": [
    "c=print(np.zeros(10))\n"
   ]
  },
  {
   "cell_type": "code",
   "execution_count": 20,
   "metadata": {},
   "outputs": [
    {
     "name": "stdout",
     "output_type": "stream",
     "text": [
      "[1. 1. 1. 1. 1. 1. 1. 1. 1. 1.]\n"
     ]
    }
   ],
   "source": [
    "d=print(np.ones(10))"
   ]
  },
  {
   "cell_type": "code",
   "execution_count": 5,
   "metadata": {},
   "outputs": [
    {
     "name": "stdout",
     "output_type": "stream",
     "text": [
      "[5. 5. 5. 5. 5. 5. 5. 5. 5. 5.]\n"
     ]
    }
   ],
   "source": [
    "e=print(np.ones(10)*5)"
   ]
  },
  {
   "cell_type": "markdown",
   "metadata": {},
   "source": [
    "# Question 3"
   ]
  },
  {
   "cell_type": "code",
   "execution_count": 15,
   "metadata": {},
   "outputs": [
    {
     "name": "stdout",
     "output_type": "stream",
     "text": [
      "suum of array :  92\n",
      "sum of each rows :  [ 9 23 60]\n",
      "sum of each coloumn :  [17 31 44]\n"
     ]
    }
   ],
   "source": [
    "x=np.array([[1,3,5],[6,8,9],[10,20,30]])   \n",
    "\n",
    "\n",
    "print(\"suum of array : \",np.sum(x))\n",
    "\n",
    "print(\"sum of each rows : \",np.sum(x, axis=1))\n",
    "\n",
    "print(\"sum of each coloumn : \",np.sum(x, axis=0))"
   ]
  },
  {
   "cell_type": "markdown",
   "metadata": {},
   "source": [
    "# Question 4"
   ]
  },
  {
   "cell_type": "code",
   "execution_count": 19,
   "metadata": {},
   "outputs": [
    {
     "name": "stdout",
     "output_type": "stream",
     "text": [
      "Addition :  30\n",
      "Subtraction :  -10\n",
      "Multiplication :  200\n",
      "Division :  0.5\n"
     ]
    }
   ],
   "source": [
    "print(\"Addition : \",np.add(10,20))\n",
    "\n",
    "print(\"Subtraction : \",np.subtract(10,20))\n",
    "\n",
    "print(\"Multiplication : \",np.multiply(10,20))\n",
    "\n",
    "print(\"Division : \",np.divide(10,20))"
   ]
  },
  {
   "cell_type": "markdown",
   "metadata": {},
   "source": [
    "# Question 5"
   ]
  },
  {
   "cell_type": "code",
   "execution_count": 32,
   "metadata": {},
   "outputs": [
    {
     "name": "stdout",
     "output_type": "stream",
     "text": [
      "sine: array of angles given in degrees\n",
      "[0.         0.5        0.70710678 0.8660254  1.        ]\n",
      "cosine: array of angles given in degrees\n",
      "[1.00000000e+00 8.66025404e-01 7.07106781e-01 5.00000000e-01\n",
      " 6.12323400e-17]\n",
      "tangent: array of angles given in degrees\n",
      "[0.00000000e+00 5.77350269e-01 1.00000000e+00 1.73205081e+00\n",
      " 1.63312394e+16]\n"
     ]
    }
   ],
   "source": [
    "print(\"sine: array of angles given in degrees\")\n",
    "print(np.sin(np.array((0., 30., 45., 60., 90.)) * np.pi / 180))\n",
    "\n",
    "print(\"cosine: array of angles given in degrees\")\n",
    "print(np.cos(np.array((0. , 30. , 45. , 60. , 90.))* np.pi / 180.))\n",
    "\n",
    "print(\"tangent: array of angles given in degrees\")\n",
    "print(np.tan(np.array((0. , 30. , 45. , 60. , 90.))* np.pi / 180.))"
   ]
  },
  {
   "cell_type": "markdown",
   "metadata": {},
   "source": [
    "# Question 6"
   ]
  },
  {
   "cell_type": "code",
   "execution_count": 33,
   "metadata": {},
   "outputs": [],
   "source": [
    "import pandas as pd"
   ]
  },
  {
   "cell_type": "code",
   "execution_count": 82,
   "metadata": {},
   "outputs": [
    {
     "name": "stdout",
     "output_type": "stream",
     "text": [
      "       name  score  attempts qualify\n",
      "1   Chandan    8.0         1     yes\n",
      "2      Avik    8.4         3      no\n",
      "3    Aditya    7.9         2     yes\n",
      "4  Abhishek    8.9         3      no\n"
     ]
    }
   ],
   "source": [
    "z = {\"name\": ['Chandan','Avik','Aditya','Abhishek'],\n",
    "  \"score\": [8.0,8.4,7.9,8.9],\n",
    "   'attempts': [1, 3, 2, 3],\n",
    "    'qualify': ['yes', 'no', 'yes', 'no']}\n",
    "print(pd.DataFrame(z,index=[1,2,3,4]))"
   ]
  },
  {
   "cell_type": "markdown",
   "metadata": {},
   "source": [
    "# Question 7"
   ]
  },
  {
   "cell_type": "code",
   "execution_count": 87,
   "metadata": {},
   "outputs": [
    {
     "name": "stdout",
     "output_type": "stream",
     "text": [
      "Select specific columns:\n",
      "       name  score\n",
      "1   Chandan    8.0\n",
      "2      Avik    8.4\n",
      "3    Aditya    7.9\n",
      "4  Abhishek    8.9\n"
     ]
    }
   ],
   "source": [
    "z = {\"name\": ['Chandan','Avik','Aditya','Abhishek'],\n",
    "  \"score\": [8.0,8.4,7.9,8.9],\n",
    "   'attempts': [1, 3, 2, 3],\n",
    "    'qualify': ['yes', 'no', 'yes', 'no']}\n",
    "\n",
    "y=pd.DataFrame(z,index=[1,2,3,4])\n",
    "\n",
    "print(\"Select specific columns:\")\n",
    "print(y[['name','score']])"
   ]
  },
  {
   "cell_type": "markdown",
   "metadata": {},
   "source": [
    "# Question 8\n"
   ]
  },
  {
   "cell_type": "code",
   "execution_count": 92,
   "metadata": {},
   "outputs": [
    {
     "name": "stdout",
     "output_type": "stream",
     "text": [
      "Original DataFrames:\n",
      "  student_id      name  marks\n",
      "0         S1      Avik    200\n",
      "1         S2  Abhishek    210\n",
      "2         S3    Aditya    190\n",
      "3         S4   Chandan    222\n",
      "-------------------------------------\n",
      "  student_id   name  marks\n",
      "0         S1  Luice    300\n",
      "1         S2    Man    100\n",
      "2         S3   Alex    187\n",
      "3         S4   Jack    268\n",
      "\n",
      "Join the said two dataframes along rows:\n",
      "  student_id      name  marks\n",
      "0         S1      Avik    200\n",
      "1         S2  Abhishek    210\n",
      "2         S3    Aditya    190\n",
      "3         S4   Chandan    222\n",
      "0         S1     Luice    300\n",
      "1         S2       Man    100\n",
      "2         S3      Alex    187\n",
      "3         S4      Jack    268\n"
     ]
    }
   ],
   "source": [
    "stud_data1=pd.DataFrame({'student_id': ['S1', 'S2', 'S3', 'S4'],\n",
    "         'name': ['Avik','Abhishek','Aditya','Chandan'],\n",
    "        'marks': [200, 210, 190, 222]})\n",
    "\n",
    "stud_data2=pd.DataFrame({'student_id': ['S1', 'S2', 'S3', 'S4'],\n",
    "         'name': ['Luice','Man','Alex','Jack'],\n",
    "        'marks': [300, 100, 187, 268]})\n",
    "\n",
    "print(\"Original DataFrames:\")\n",
    "print(stud_data1)\n",
    "print(\"-------------------------------------\")\n",
    "print(stud_data2)\n",
    "print(\"\\nJoin the said two dataframes along rows:\")\n",
    "result_data = pd.concat([stud_data1, stud_data2])\n",
    "print(result_data)\n"
   ]
  },
  {
   "cell_type": "markdown",
   "metadata": {},
   "source": []
  }
 ],
 "metadata": {
  "kernelspec": {
   "display_name": "Python 3",
   "language": "python",
   "name": "python3"
  },
  "language_info": {
   "codemirror_mode": {
    "name": "ipython",
    "version": 3
   },
   "file_extension": ".py",
   "mimetype": "text/x-python",
   "name": "python",
   "nbconvert_exporter": "python",
   "pygments_lexer": "ipython3",
   "version": "3.7.6"
  }
 },
 "nbformat": 4,
 "nbformat_minor": 4
}
